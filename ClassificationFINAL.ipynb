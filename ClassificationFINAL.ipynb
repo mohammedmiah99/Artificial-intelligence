{
 "cells": [
  {
   "cell_type": "code",
   "execution_count": 21,
   "metadata": {
    "_cell_guid": "b1076dfc-b9ad-4769-8c92-a6c4dae69d19",
    "_uuid": "8f2839f25d086af736a60e9eeb907d3b93b6e0e5"
   },
   "outputs": [
    {
     "name": "stdout",
     "output_type": "stream",
     "text": [
      "Size: (142193, 24)\n"
     ]
    }
   ],
   "source": [
    "import numpy as np\n",
    "import pandas as pd\n",
    "import matplotlib.pyplot as plt\n",
    "\n",
    "df = pd.read_csv('D:/moham/Uni Work/Year 3/Semester 1/Intro to AI/Coursework/weatherAUS.csv')\n",
    "\n",
    "print('Size:',df.shape)"
   ]
  },
  {
   "cell_type": "code",
   "execution_count": 22,
   "metadata": {},
   "outputs": [
    {
     "name": "stdout",
     "output_type": "stream",
     "text": [
      "Date             False\n",
      "Location         False\n",
      "MinTemp           True\n",
      "MaxTemp           True\n",
      "Rainfall          True\n",
      "Evaporation       True\n",
      "Sunshine          True\n",
      "WindGustDir       True\n",
      "WindGustSpeed     True\n",
      "WindDir9am        True\n",
      "WindDir3pm        True\n",
      "WindSpeed9am      True\n",
      "WindSpeed3pm      True\n",
      "Humidity9am       True\n",
      "Humidity3pm       True\n",
      "Pressure9am       True\n",
      "Pressure3pm       True\n",
      "Cloud9am          True\n",
      "Cloud3pm          True\n",
      "Temp9am           True\n",
      "Temp3pm           True\n",
      "RainToday         True\n",
      "RISK_MM          False\n",
      "RainTomorrow     False\n",
      "dtype: bool\n"
     ]
    }
   ],
   "source": [
    "print(df.isnull().any())"
   ]
  },
  {
   "cell_type": "code",
   "execution_count": 23,
   "metadata": {},
   "outputs": [
    {
     "data": {
      "text/plain": [
       "Sunshine          74377\n",
       "Evaporation       81350\n",
       "Cloud3pm          85099\n",
       "Cloud9am          88536\n",
       "Pressure9am      128179\n",
       "Pressure3pm      128212\n",
       "WindDir9am       132180\n",
       "WindGustDir      132863\n",
       "WindGustSpeed    132923\n",
       "WindDir3pm       138415\n",
       "Humidity3pm      138583\n",
       "Temp3pm          139467\n",
       "WindSpeed3pm     139563\n",
       "Humidity9am      140419\n",
       "RainToday        140787\n",
       "Rainfall         140787\n",
       "WindSpeed9am     140845\n",
       "Temp9am          141289\n",
       "MinTemp          141556\n",
       "MaxTemp          141871\n",
       "Date             142193\n",
       "Location         142193\n",
       "RISK_MM          142193\n",
       "RainTomorrow     142193\n",
       "dtype: int64"
      ]
     },
     "execution_count": 23,
     "metadata": {},
     "output_type": "execute_result"
    }
   ],
   "source": [
    "df.count().sort_values()"
   ]
  },
  {
   "cell_type": "code",
   "execution_count": 24,
   "metadata": {
    "_cell_guid": "79c7e3d0-c299-4dcb-8224-4455121ee9b0",
    "_uuid": "d629ff2d2480ee46fbb7e2d37f6b5fab8052498a"
   },
   "outputs": [
    {
     "data": {
      "text/html": [
       "<div>\n",
       "<style scoped>\n",
       "    .dataframe tbody tr th:only-of-type {\n",
       "        vertical-align: middle;\n",
       "    }\n",
       "\n",
       "    .dataframe tbody tr th {\n",
       "        vertical-align: top;\n",
       "    }\n",
       "\n",
       "    .dataframe thead th {\n",
       "        text-align: right;\n",
       "    }\n",
       "</style>\n",
       "<table border=\"1\" class=\"dataframe\">\n",
       "  <thead>\n",
       "    <tr style=\"text-align: right;\">\n",
       "      <th></th>\n",
       "      <th>MinTemp</th>\n",
       "      <th>MaxTemp</th>\n",
       "      <th>Rainfall</th>\n",
       "      <th>WindGustSpeed</th>\n",
       "      <th>WindSpeed9am</th>\n",
       "      <th>WindSpeed3pm</th>\n",
       "      <th>Humidity9am</th>\n",
       "      <th>Humidity3pm</th>\n",
       "      <th>Pressure9am</th>\n",
       "      <th>Pressure3pm</th>\n",
       "      <th>Temp9am</th>\n",
       "      <th>Temp3pm</th>\n",
       "      <th>RainToday</th>\n",
       "      <th>RainTomorrow</th>\n",
       "    </tr>\n",
       "  </thead>\n",
       "  <tbody>\n",
       "    <tr>\n",
       "      <th>4</th>\n",
       "      <td>17.5</td>\n",
       "      <td>32.3</td>\n",
       "      <td>1.0</td>\n",
       "      <td>41.0</td>\n",
       "      <td>7.0</td>\n",
       "      <td>20.0</td>\n",
       "      <td>82.0</td>\n",
       "      <td>33.0</td>\n",
       "      <td>1010.8</td>\n",
       "      <td>1006.0</td>\n",
       "      <td>17.8</td>\n",
       "      <td>29.7</td>\n",
       "      <td>0</td>\n",
       "      <td>0</td>\n",
       "    </tr>\n",
       "    <tr>\n",
       "      <th>5</th>\n",
       "      <td>14.6</td>\n",
       "      <td>29.7</td>\n",
       "      <td>0.2</td>\n",
       "      <td>56.0</td>\n",
       "      <td>19.0</td>\n",
       "      <td>24.0</td>\n",
       "      <td>55.0</td>\n",
       "      <td>23.0</td>\n",
       "      <td>1009.2</td>\n",
       "      <td>1005.4</td>\n",
       "      <td>20.6</td>\n",
       "      <td>28.9</td>\n",
       "      <td>0</td>\n",
       "      <td>0</td>\n",
       "    </tr>\n",
       "    <tr>\n",
       "      <th>6</th>\n",
       "      <td>14.3</td>\n",
       "      <td>25.0</td>\n",
       "      <td>0.0</td>\n",
       "      <td>50.0</td>\n",
       "      <td>20.0</td>\n",
       "      <td>24.0</td>\n",
       "      <td>49.0</td>\n",
       "      <td>19.0</td>\n",
       "      <td>1009.6</td>\n",
       "      <td>1008.2</td>\n",
       "      <td>18.1</td>\n",
       "      <td>24.6</td>\n",
       "      <td>0</td>\n",
       "      <td>0</td>\n",
       "    </tr>\n",
       "    <tr>\n",
       "      <th>7</th>\n",
       "      <td>7.7</td>\n",
       "      <td>26.7</td>\n",
       "      <td>0.0</td>\n",
       "      <td>35.0</td>\n",
       "      <td>6.0</td>\n",
       "      <td>17.0</td>\n",
       "      <td>48.0</td>\n",
       "      <td>19.0</td>\n",
       "      <td>1013.4</td>\n",
       "      <td>1010.1</td>\n",
       "      <td>16.3</td>\n",
       "      <td>25.5</td>\n",
       "      <td>0</td>\n",
       "      <td>0</td>\n",
       "    </tr>\n",
       "    <tr>\n",
       "      <th>8</th>\n",
       "      <td>9.7</td>\n",
       "      <td>31.9</td>\n",
       "      <td>0.0</td>\n",
       "      <td>80.0</td>\n",
       "      <td>7.0</td>\n",
       "      <td>28.0</td>\n",
       "      <td>42.0</td>\n",
       "      <td>9.0</td>\n",
       "      <td>1008.9</td>\n",
       "      <td>1003.6</td>\n",
       "      <td>18.3</td>\n",
       "      <td>30.2</td>\n",
       "      <td>0</td>\n",
       "      <td>1</td>\n",
       "    </tr>\n",
       "  </tbody>\n",
       "</table>\n",
       "</div>"
      ],
      "text/plain": [
       "   MinTemp  MaxTemp  Rainfall  WindGustSpeed  WindSpeed9am  WindSpeed3pm  \\\n",
       "4     17.5     32.3       1.0           41.0           7.0          20.0   \n",
       "5     14.6     29.7       0.2           56.0          19.0          24.0   \n",
       "6     14.3     25.0       0.0           50.0          20.0          24.0   \n",
       "7      7.7     26.7       0.0           35.0           6.0          17.0   \n",
       "8      9.7     31.9       0.0           80.0           7.0          28.0   \n",
       "\n",
       "   Humidity9am  Humidity3pm  Pressure9am  Pressure3pm  Temp9am  Temp3pm  \\\n",
       "4         82.0         33.0       1010.8       1006.0     17.8     29.7   \n",
       "5         55.0         23.0       1009.2       1005.4     20.6     28.9   \n",
       "6         49.0         19.0       1009.6       1008.2     18.1     24.6   \n",
       "7         48.0         19.0       1013.4       1010.1     16.3     25.5   \n",
       "8         42.0          9.0       1008.9       1003.6     18.3     30.2   \n",
       "\n",
       "   RainToday  RainTomorrow  \n",
       "4          0             0  \n",
       "5          0             0  \n",
       "6          0             0  \n",
       "7          0             0  \n",
       "8          0             1  "
      ]
     },
     "execution_count": 24,
     "metadata": {},
     "output_type": "execute_result"
    }
   ],
   "source": [
    "df = df.drop(columns=['Sunshine','Evaporation','Cloud3pm','Cloud9am',\n",
    "                      'Location','RISK_MM','Date','WindGustDir', 'WindDir3pm', 'WindDir9am'],axis=1)\n",
    "df.shape\n",
    "\n",
    "df=df.dropna(how =\"any\")\n",
    "\n",
    "df.count().sort_values()\n",
    "df.isnull().sum()\n",
    "\n",
    "from scipy import stats\n",
    "\n",
    "z=np.abs(stats.zscore(df._get_numeric_data()))\n",
    "df=df[(z<3).all(axis=1)]\n",
    "\n",
    "df['RainToday'].replace({'No': 0, 'Yes': 1},inplace = True)\n",
    "df['RainTomorrow'].replace({'No': 0, 'Yes': 1},inplace = True)\n",
    "\n",
    "df.iloc[4:9]\n"
   ]
  },
  {
   "cell_type": "code",
   "execution_count": 25,
   "metadata": {},
   "outputs": [
    {
     "data": {
      "text/html": [
       "<div>\n",
       "<style scoped>\n",
       "    .dataframe tbody tr th:only-of-type {\n",
       "        vertical-align: middle;\n",
       "    }\n",
       "\n",
       "    .dataframe tbody tr th {\n",
       "        vertical-align: top;\n",
       "    }\n",
       "\n",
       "    .dataframe thead th {\n",
       "        text-align: right;\n",
       "    }\n",
       "</style>\n",
       "<table border=\"1\" class=\"dataframe\">\n",
       "  <thead>\n",
       "    <tr style=\"text-align: right;\">\n",
       "      <th></th>\n",
       "      <th>MinTemp</th>\n",
       "      <th>MaxTemp</th>\n",
       "      <th>Rainfall</th>\n",
       "      <th>WindGustSpeed</th>\n",
       "      <th>WindSpeed9am</th>\n",
       "      <th>WindSpeed3pm</th>\n",
       "      <th>Humidity9am</th>\n",
       "      <th>Humidity3pm</th>\n",
       "      <th>Pressure9am</th>\n",
       "      <th>Pressure3pm</th>\n",
       "      <th>Temp9am</th>\n",
       "      <th>Temp3pm</th>\n",
       "      <th>RainToday</th>\n",
       "      <th>RainTomorrow</th>\n",
       "    </tr>\n",
       "  </thead>\n",
       "  <tbody>\n",
       "    <tr>\n",
       "      <th>4</th>\n",
       "      <td>0.635171</td>\n",
       "      <td>0.710526</td>\n",
       "      <td>0.036232</td>\n",
       "      <td>0.472973</td>\n",
       "      <td>0.179487</td>\n",
       "      <td>0.454545</td>\n",
       "      <td>0.797753</td>\n",
       "      <td>0.33</td>\n",
       "      <td>0.338824</td>\n",
       "      <td>0.280285</td>\n",
       "      <td>0.510471</td>\n",
       "      <td>0.683292</td>\n",
       "      <td>0.0</td>\n",
       "      <td>0.0</td>\n",
       "    </tr>\n",
       "    <tr>\n",
       "      <th>5</th>\n",
       "      <td>0.559055</td>\n",
       "      <td>0.648325</td>\n",
       "      <td>0.007246</td>\n",
       "      <td>0.675676</td>\n",
       "      <td>0.487179</td>\n",
       "      <td>0.545455</td>\n",
       "      <td>0.494382</td>\n",
       "      <td>0.23</td>\n",
       "      <td>0.301176</td>\n",
       "      <td>0.266033</td>\n",
       "      <td>0.583770</td>\n",
       "      <td>0.663342</td>\n",
       "      <td>0.0</td>\n",
       "      <td>0.0</td>\n",
       "    </tr>\n",
       "    <tr>\n",
       "      <th>6</th>\n",
       "      <td>0.551181</td>\n",
       "      <td>0.535885</td>\n",
       "      <td>0.000000</td>\n",
       "      <td>0.594595</td>\n",
       "      <td>0.512821</td>\n",
       "      <td>0.545455</td>\n",
       "      <td>0.426966</td>\n",
       "      <td>0.19</td>\n",
       "      <td>0.310588</td>\n",
       "      <td>0.332542</td>\n",
       "      <td>0.518325</td>\n",
       "      <td>0.556110</td>\n",
       "      <td>0.0</td>\n",
       "      <td>0.0</td>\n",
       "    </tr>\n",
       "    <tr>\n",
       "      <th>7</th>\n",
       "      <td>0.377953</td>\n",
       "      <td>0.576555</td>\n",
       "      <td>0.000000</td>\n",
       "      <td>0.391892</td>\n",
       "      <td>0.153846</td>\n",
       "      <td>0.386364</td>\n",
       "      <td>0.415730</td>\n",
       "      <td>0.19</td>\n",
       "      <td>0.400000</td>\n",
       "      <td>0.377672</td>\n",
       "      <td>0.471204</td>\n",
       "      <td>0.578554</td>\n",
       "      <td>0.0</td>\n",
       "      <td>0.0</td>\n",
       "    </tr>\n",
       "    <tr>\n",
       "      <th>8</th>\n",
       "      <td>0.430446</td>\n",
       "      <td>0.700957</td>\n",
       "      <td>0.000000</td>\n",
       "      <td>1.000000</td>\n",
       "      <td>0.179487</td>\n",
       "      <td>0.636364</td>\n",
       "      <td>0.348315</td>\n",
       "      <td>0.09</td>\n",
       "      <td>0.294118</td>\n",
       "      <td>0.223278</td>\n",
       "      <td>0.523560</td>\n",
       "      <td>0.695761</td>\n",
       "      <td>0.0</td>\n",
       "      <td>1.0</td>\n",
       "    </tr>\n",
       "    <tr>\n",
       "      <th>9</th>\n",
       "      <td>0.519685</td>\n",
       "      <td>0.657895</td>\n",
       "      <td>0.050725</td>\n",
       "      <td>0.297297</td>\n",
       "      <td>0.384615</td>\n",
       "      <td>0.250000</td>\n",
       "      <td>0.528090</td>\n",
       "      <td>0.27</td>\n",
       "      <td>0.249412</td>\n",
       "      <td>0.273159</td>\n",
       "      <td>0.570681</td>\n",
       "      <td>0.645885</td>\n",
       "      <td>1.0</td>\n",
       "      <td>0.0</td>\n",
       "    </tr>\n",
       "  </tbody>\n",
       "</table>\n",
       "</div>"
      ],
      "text/plain": [
       "    MinTemp   MaxTemp  Rainfall  WindGustSpeed  WindSpeed9am  WindSpeed3pm  \\\n",
       "4  0.635171  0.710526  0.036232       0.472973      0.179487      0.454545   \n",
       "5  0.559055  0.648325  0.007246       0.675676      0.487179      0.545455   \n",
       "6  0.551181  0.535885  0.000000       0.594595      0.512821      0.545455   \n",
       "7  0.377953  0.576555  0.000000       0.391892      0.153846      0.386364   \n",
       "8  0.430446  0.700957  0.000000       1.000000      0.179487      0.636364   \n",
       "9  0.519685  0.657895  0.050725       0.297297      0.384615      0.250000   \n",
       "\n",
       "   Humidity9am  Humidity3pm  Pressure9am  Pressure3pm   Temp9am   Temp3pm  \\\n",
       "4     0.797753         0.33     0.338824     0.280285  0.510471  0.683292   \n",
       "5     0.494382         0.23     0.301176     0.266033  0.583770  0.663342   \n",
       "6     0.426966         0.19     0.310588     0.332542  0.518325  0.556110   \n",
       "7     0.415730         0.19     0.400000     0.377672  0.471204  0.578554   \n",
       "8     0.348315         0.09     0.294118     0.223278  0.523560  0.695761   \n",
       "9     0.528090         0.27     0.249412     0.273159  0.570681  0.645885   \n",
       "\n",
       "   RainToday  RainTomorrow  \n",
       "4        0.0           0.0  \n",
       "5        0.0           0.0  \n",
       "6        0.0           0.0  \n",
       "7        0.0           0.0  \n",
       "8        0.0           1.0  \n",
       "9        1.0           0.0  "
      ]
     },
     "execution_count": 25,
     "metadata": {},
     "output_type": "execute_result"
    }
   ],
   "source": [
    "from sklearn import preprocessing\n",
    "scaler = preprocessing.MinMaxScaler()\n",
    "scaler.fit(df)\n",
    "df = pd.DataFrame(scaler.transform(df), index=df.index, columns=df.columns)\n",
    "df.iloc[4:10]"
   ]
  },
  {
   "cell_type": "code",
   "execution_count": 26,
   "metadata": {},
   "outputs": [
    {
     "name": "stdout",
     "output_type": "stream",
     "text": [
      "Index(['Rainfall', 'Humidity3pm', 'RainToday'], dtype='object')\n"
     ]
    }
   ],
   "source": [
    "# SelectKbest\n",
    "from sklearn.feature_selection import SelectKBest, chi2\n",
    "X = df.loc[:,df.columns!='RainTomorrow']\n",
    "y = df[['RainTomorrow']]\n",
    "selector = SelectKBest(chi2, k=3)\n",
    "selector.fit(X, y)\n",
    "X_new = selector.transform(X)\n",
    "print(X.columns[selector.get_support(indices=True)])"
   ]
  },
  {
   "cell_type": "code",
   "execution_count": 27,
   "metadata": {},
   "outputs": [],
   "source": [
    "df = df[['Humidity3pm','Rainfall','RainToday','RainTomorrow','Temp3pm']]\n",
    "X = df[['Humidity3pm']].values\n",
    "y = df[['RainTomorrow']].values\n"
   ]
  },
  {
   "cell_type": "code",
   "execution_count": 31,
   "metadata": {},
   "outputs": [
    {
     "name": "stdout",
     "output_type": "stream",
     "text": [
      "The accuracy is:  83.61182968607984 %\n",
      "Time taken : 0.11768507957458496\n"
     ]
    },
    {
     "name": "stderr",
     "output_type": "stream",
     "text": [
      "C:\\Users\\moham\\Anaconda3\\lib\\site-packages\\sklearn\\linear_model\\logistic.py:432: FutureWarning: Default solver will be changed to 'lbfgs' in 0.22. Specify a solver to silence this warning.\n",
      "  FutureWarning)\n",
      "C:\\Users\\moham\\Anaconda3\\lib\\site-packages\\sklearn\\utils\\validation.py:724: DataConversionWarning: A column-vector y was passed when a 1d array was expected. Please change the shape of y to (n_samples, ), for example using ravel().\n",
      "  y = column_or_1d(y, warn=True)\n"
     ]
    },
    {
     "data": {
      "text/plain": [
       "<Figure size 432x288 with 0 Axes>"
      ]
     },
     "metadata": {},
     "output_type": "display_data"
    },
    {
     "data": {
      "image/png": "[encoded data removed]",
      "text/plain": [
       "<Figure size 576x432 with 2 Axes>"
      ]
     },
     "metadata": {
      "needs_background": "light"
     },
     "output_type": "display_data"
    },
    {
     "name": "stdout",
     "output_type": "stream",
     "text": [
      "              precision    recall  f1-score   support\n",
      "\n",
      "         0.0       0.85      0.96      0.90     22815\n",
      "         1.0       0.70      0.33      0.45      5791\n",
      "\n",
      "    accuracy                           0.84     28606\n",
      "   macro avg       0.78      0.65      0.68     28606\n",
      "weighted avg       0.82      0.84      0.81     28606\n",
      "\n"
     ]
    }
   ],
   "source": [
    "# logistic regression\n",
    "\n",
    "from sklearn.linear_model import LogisticRegression\n",
    "import seaborn as sns\n",
    "from sklearn.model_selection import train_test_split\n",
    "from sklearn.metrics import confusion_matrix\n",
    "from sklearn.metrics import accuracy_score\n",
    "import time\n",
    "\n",
    "t0=time.time()\n",
    "\n",
    "X_train,X_test,y_train,y_test = train_test_split(X,y,test_size=0.25,random_state=42)\n",
    "clf_logreg = LogisticRegression()\n",
    "clf_logreg.fit(X_train,y_train)\n",
    "y_pred = clf_logreg.predict(X_test)\n",
    "score = accuracy_score(y_test,y_pred)\n",
    "\n",
    "print('The accuracy is: ',score*100,'%')\n",
    "print('Time taken :' , time.time()-t0)\n",
    "\n",
    "\n",
    "plt.figure()\n",
    "cm = confusion_matrix(y_test, (y_pred >=0.5)*1)\n",
    "labels = ['No Rain', 'Rain']\n",
    "plt.figure(figsize=(8,6))\n",
    "sns.heatmap(cm, xticklabels = labels, yticklabels = labels, annot = True, fmt='d', cmap=\"Blues\", vmin = 0.2);\n",
    "plt.title('Confusion Matrix')\n",
    "plt.ylabel('True Class')\n",
    "plt.xlabel('Predicted Class')\n",
    "plt.show()\n",
    "\n",
    "from sklearn.metrics import classification_report\n",
    "\n",
    "print(classification_report(y_test, y_pred))"
   ]
  },
  {
   "cell_type": "code",
   "execution_count": 32,
   "metadata": {},
   "outputs": [
    {
     "name": "stdout",
     "output_type": "stream",
     "text": [
      "The accuracy is:  83.77263511151507 %\n",
      "Time taken : 0.06581497192382812\n"
     ]
    },
    {
     "data": {
      "text/plain": [
       "<Figure size 432x288 with 0 Axes>"
      ]
     },
     "metadata": {},
     "output_type": "display_data"
    },
    {
     "data": {
      "image/png": "[encoded data removed]",
      "text/plain": [
       "<Figure size 576x432 with 2 Axes>"
      ]
     },
     "metadata": {
      "needs_background": "light"
     },
     "output_type": "display_data"
    },
    {
     "name": "stdout",
     "output_type": "stream",
     "text": [
      "              precision    recall  f1-score   support\n",
      "\n",
      "         0.0       0.85      0.97      0.90     22787\n",
      "         1.0       0.72      0.33      0.45      5819\n",
      "\n",
      "    accuracy                           0.84     28606\n",
      "   macro avg       0.79      0.65      0.68     28606\n",
      "weighted avg       0.82      0.84      0.81     28606\n",
      "\n"
     ]
    }
   ],
   "source": [
    "# Decision Tree Classifier\n",
    "from sklearn.tree import DecisionTreeClassifier\n",
    "\n",
    "t0=time.time()\n",
    "X_train,X_test,y_train,y_test = train_test_split(X,y,test_size=0.25)\n",
    "clf_dt = DecisionTreeClassifier(random_state=0)\n",
    "clf_dt.fit(X_train,y_train)\n",
    "y_pred = clf_dt.predict(X_test)\n",
    "score = accuracy_score(y_test,y_pred)\n",
    "print('The accuracy is: ',score*100,'%')\n",
    "print('Time taken :' , time.time()-t0)\n",
    "\n",
    "plt.figure()\n",
    "cm = confusion_matrix(y_test, (y_pred >=0.5)*1)\n",
    "labels = ['No Rain', 'Rain']\n",
    "plt.figure(figsize=(8,6))\n",
    "sns.heatmap(cm, xticklabels = labels, yticklabels = labels, annot = True, fmt='d', cmap=\"Blues\", vmin = 0.2);\n",
    "plt.title('Confusion Matrix')\n",
    "plt.ylabel('True Class')\n",
    "plt.xlabel('Predicted Class')\n",
    "plt.show()\n",
    "\n",
    "print(classification_report(y_test, y_pred))"
   ]
  },
  {
   "cell_type": "code",
   "execution_count": 33,
   "metadata": {},
   "outputs": [
    {
     "name": "stderr",
     "output_type": "stream",
     "text": [
      "C:\\Users\\moham\\Anaconda3\\lib\\site-packages\\ipykernel_launcher.py:12: DataConversionWarning: A column-vector y was passed when a 1d array was expected. Please change the shape of y to (n_samples,), for example using ravel().\n",
      "  if sys.path[0] == '':\n"
     ]
    },
    {
     "name": "stdout",
     "output_type": "stream",
     "text": [
      "The accuracy is:  83.64329161714326 %\n",
      "Time taken : 0.31615519523620605\n"
     ]
    },
    {
     "data": {
      "text/plain": [
       "<Figure size 432x288 with 0 Axes>"
      ]
     },
     "metadata": {},
     "output_type": "display_data"
    },
    {
     "data": {
      "image/png": "[encoded data removed]",
      "text/plain": [
       "<Figure size 576x432 with 2 Axes>"
      ]
     },
     "metadata": {
      "needs_background": "light"
     },
     "output_type": "display_data"
    },
    {
     "name": "stdout",
     "output_type": "stream",
     "text": [
      "              precision    recall  f1-score   support\n",
      "\n",
      "         0.0       0.85      0.97      0.90     22750\n",
      "         1.0       0.73      0.32      0.45      5856\n",
      "\n",
      "    accuracy                           0.84     28606\n",
      "   macro avg       0.79      0.65      0.68     28606\n",
      "weighted avg       0.82      0.84      0.81     28606\n",
      "\n"
     ]
    }
   ],
   "source": [
    "#Random Forest Classifier \n",
    "import sys\n",
    "from sklearn.ensemble import RandomForestClassifier\n",
    "from sklearn.preprocessing import LabelEncoder\n",
    "from sklearn.model_selection import cross_validate\n",
    "\n",
    "t0=time.time()\n",
    "X_train,X_test,y_train,y_test = train_test_split(X,y,test_size=0.25)\n",
    "\n",
    "Random_Forest_model = RandomForestClassifier(n_estimators=10,criterion=\"entropy\")\n",
    "\n",
    "Random_Forest_model.fit(X_train, y_train)\n",
    "\n",
    "y_pred = Random_Forest_model.predict(X_test)\n",
    "\n",
    "from sklearn.metrics import accuracy_score\n",
    "accuracy = accuracy_score(y_pred, y_test)\n",
    "\n",
    "print('The accuracy is: ',accuracy*100,'%')\n",
    "print('Time taken :' , time.time()-t0)\n",
    "\n",
    "plt.figure()\n",
    "cm = confusion_matrix(y_test, (y_pred >=0.5)*1)\n",
    "labels = ['No Rain', 'Rain']\n",
    "plt.figure(figsize=(8,6))\n",
    "sns.heatmap(cm, xticklabels = labels, yticklabels = labels, annot = True, fmt='d', cmap=\"Blues\", vmin = 0.2);\n",
    "plt.title('Confusion Matrix')\n",
    "plt.ylabel('True Class')\n",
    "plt.xlabel('Predicted Class')\n",
    "plt.show()\n",
    "\n",
    "print(classification_report(y_test, y_pred))"
   ]
  }
 ],
 "metadata": {
  "kernelspec": {
   "display_name": "Python 3",
   "language": "python",
   "name": "python3"
  },
  "language_info": {
   "codemirror_mode": {
    "name": "ipython",
    "version": 3
   },
   "file_extension": ".py",
   "mimetype": "text/x-python",
   "name": "python",
   "nbconvert_exporter": "python",
   "pygments_lexer": "ipython3",
   "version": "3.7.3"
  }
 },
 "nbformat": 4,
 "nbformat_minor": 1
}
